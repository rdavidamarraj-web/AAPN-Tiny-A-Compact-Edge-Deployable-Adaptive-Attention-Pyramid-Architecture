{
 "cells": [
  {
   "cell_type": "code",
   "execution_count": 1,
   "metadata": {},
   "outputs": [],
   "source": [
    "# Import libraries\n",
    "import os\n",
    "import cv2\n",
    "import tensorflow as tf\n",
    "import numpy as np\n",
    "import matplotlib.pyplot as plt\n",
    "from sklearn.metrics import classification_report, roc_curve, auc, confusion_matrix\n",
    "import seaborn as sns\n",
    "from tensorflow.keras.models import Sequential\n",
    "from tensorflow.keras.layers import Dense, Conv2D, Dropout, Flatten, MaxPooling2D, BatchNormalization, Activation, Add, Input, Concatenate, GlobalAveragePooling2D\n",
    "from tensorflow.keras.models import Model\n",
    "from tensorflow.keras.utils import to_categorical\n",
    "from tensorflow.keras.optimizers import Adam\n",
    "from tensorflow.keras.losses import CategoricalCrossentropy"
   ]
  },
  {
   "cell_type": "code",
   "execution_count": 2,
   "metadata": {},
   "outputs": [],
   "source": [
    "# Import necessary libraries\n",
    "import os\n",
    "import cv2\n",
    "import tensorflow as tf\n",
    "import numpy as np\n",
    "import matplotlib.pyplot as plt\n",
    "from sklearn.metrics import classification_report, roc_curve, auc, confusion_matrix\n",
    "import seaborn as sns\n",
    "from tensorflow.keras.models import Sequential, Model\n",
    "from tensorflow.keras.layers import Dense, Conv2D, Dropout, Flatten, MaxPooling2D, BatchNormalization, Activation, Add, Input, Concatenate, GlobalAveragePooling2D, AveragePooling2D, DepthwiseConv2D, Multiply\n",
    "from tensorflow.keras.optimizers import Adam\n",
    "from tensorflow.keras.losses import CategoricalCrossentropy\n",
    "from tensorflow.keras.callbacks import ReduceLROnPlateau"
   ]
  },
  {
   "cell_type": "code",
   "execution_count": 3,
   "metadata": {},
   "outputs": [],
   "source": [
    "# Load data\n",
    "X_train = np.load('../../datasets_numpy_3aug/12c/X_train_n12c.npy')\n",
    "y_train = np.load('../../datasets_numpy_3aug/12c/y_train_n12c.npy')\n",
    "X_val = np.load('../../datasets_numpy_3aug/12c/X_val_n12c.npy')\n",
    "y_val = np.load('../../datasets_numpy_3aug/12c/y_val_n12c.npy')\n",
    "X_test = np.load('../../datasets_numpy_3aug/12c/X_test_n12c.npy')\n",
    "y_test = np.load('../../datasets_numpy_3aug/12c/y_test_n12c.npy')"
   ]
  },
  {
   "cell_type": "code",
   "execution_count": 4,
   "metadata": {},
   "outputs": [
    {
     "name": "stdout",
     "output_type": "stream",
     "text": [
      "Shape of y_train: (64000, 12)\n"
     ]
    }
   ],
   "source": [
    "# Check the shape of target labels\n",
    "print(f\"Shape of y_train: {y_train.shape}\")\n",
    "\n",
    "# Squeeze-and-Excitation (SE) Block\n",
    "def se_block(input_tensor, ratio=8):\n",
    "    filters = input_tensor.shape[-1]\n",
    "    se = GlobalAveragePooling2D()(input_tensor)         #ly8\n",
    "    se = Dense(filters // ratio, activation='relu')(se) #ly9\n",
    "    se = Dense(filters // ratio, activation='relu')(se) #ly9\n",
    "    se = Dense(filters, activation='sigmoid')(se)       #ly10\n",
    "    return Multiply()([input_tensor, se])               #ly11\n"
   ]
  },
  {
   "cell_type": "code",
   "execution_count": 5,
   "metadata": {},
   "outputs": [],
   "source": [
    "# Enhanced Pyramid Block with Depthwise Separable Convolution and SE Block\n",
    "def enhanced_pyramid_block(x, filters):\n",
    "    # Depthwise Separable Conv Layer\n",
    "    x = DepthwiseConv2D((3, 3), padding='same', depth_multiplier=1, activation='relu')(x)  #ly4\n",
    "    x = Conv2D(filters, (1, 1), activation='relu')(x)                                      #ly5\n",
    "    x = BatchNormalization()(x)                                                            #ly6\n",
    "    \n",
    "    # Second Conv Layer with SE Block\n",
    "    x = Conv2D(filters, (3, 3), padding='same', activation='relu')(x)                      #ly7\n",
    "    x = se_block(x)\n",
    "    x = BatchNormalization()(x)\n",
    "    \n",
    "    # Max Pooling Layer\n",
    "    x = MaxPooling2D(pool_size=(2, 2))(x)\n",
    "    return x"
   ]
  },
  {
   "cell_type": "code",
   "execution_count": 6,
   "metadata": {},
   "outputs": [],
   "source": [
    "# Adaptive Attention Pyramid Network (AAPN)\n",
    "def adaptive_attention_pyramid_net(input_shape=(40, 24, 1), num_classes=12):\n",
    "    input_tensor = Input(shape=input_shape)\n",
    "    \n",
    "    # Initial Conv Layer\n",
    "    x = Conv2D(32, (3, 3), padding='same', activation='relu')(input_tensor)  #ly2\n",
    "    x = BatchNormalization()(x)                                              #ly3\n",
    "    \n",
    "    # First Adaptive Pyramid Block\n",
    "    x = enhanced_pyramid_block(x, filters=64)\n",
    "    \n",
    "    # Second Adaptive Pyramid Block\n",
    "    x = enhanced_pyramid_block(x, filters=128)\n",
    "    \n",
    "    # Third Adaptive Pyramid Block\n",
    "    x = enhanced_pyramid_block(x, filters=256)\n",
    "    \n",
    "    # Global Average Pooling\n",
    "    x = GlobalAveragePooling2D()(x)\n",
    "    \n",
    "    # Fully connected layer with 128 units\n",
    "    x = Dense(128, activation='relu')(x)\n",
    "    \n",
    "    # Increased Dropout layer for better regularization\n",
    "    x = Dropout(0.4)(x)\n",
    "    \n",
    "    # Output layer (Class probabilities)\n",
    "    output_tensor = Dense(num_classes, activation='softmax')(x)\n",
    "    \n",
    "    # Build and compile the model\n",
    "    model = Model(inputs=input_tensor, outputs=output_tensor)\n",
    "    model.compile(optimizer=Adam(learning_rate=0.001),\n",
    "                  loss=CategoricalCrossentropy(label_smoothing=0.1),\n",
    "                  metrics=['accuracy'])\n",
    "    return model"
   ]
  },
  {
   "cell_type": "code",
   "execution_count": 7,
   "metadata": {},
   "outputs": [
    {
     "name": "stdout",
     "output_type": "stream",
     "text": [
      "Model: \"model\"\n",
      "__________________________________________________________________________________________________\n",
      " Layer (type)                Output Shape                 Param #   Connected to                  \n",
      "==================================================================================================\n",
      " input_1 (InputLayer)        [(None, 40, 24, 1)]          0         []                            \n",
      "                                                                                                  \n",
      " conv2d (Conv2D)             (None, 40, 24, 32)           320       ['input_1[0][0]']             \n",
      "                                                                                                  \n",
      " batch_normalization (Batch  (None, 40, 24, 32)           128       ['conv2d[0][0]']              \n",
      " Normalization)                                                                                   \n",
      "                                                                                                  \n",
      " depthwise_conv2d (Depthwis  (None, 40, 24, 32)           320       ['batch_normalization[0][0]'] \n",
      " eConv2D)                                                                                         \n",
      "                                                                                                  \n",
      " conv2d_1 (Conv2D)           (None, 40, 24, 64)           2112      ['depthwise_conv2d[0][0]']    \n",
      "                                                                                                  \n",
      " batch_normalization_1 (Bat  (None, 40, 24, 64)           256       ['conv2d_1[0][0]']            \n",
      " chNormalization)                                                                                 \n",
      "                                                                                                  \n",
      " conv2d_2 (Conv2D)           (None, 40, 24, 64)           36928     ['batch_normalization_1[0][0]'\n",
      "                                                                    ]                             \n",
      "                                                                                                  \n",
      " global_average_pooling2d (  (None, 64)                   0         ['conv2d_2[0][0]']            \n",
      " GlobalAveragePooling2D)                                                                          \n",
      "                                                                                                  \n",
      " dense (Dense)               (None, 8)                    520       ['global_average_pooling2d[0][\n",
      "                                                                    0]']                          \n",
      "                                                                                                  \n",
      " dense_1 (Dense)             (None, 64)                   576       ['dense[0][0]']               \n",
      "                                                                                                  \n",
      " multiply (Multiply)         (None, 40, 24, 64)           0         ['conv2d_2[0][0]',            \n",
      "                                                                     'dense_1[0][0]']             \n",
      "                                                                                                  \n",
      " batch_normalization_2 (Bat  (None, 40, 24, 64)           256       ['multiply[0][0]']            \n",
      " chNormalization)                                                                                 \n",
      "                                                                                                  \n",
      " max_pooling2d (MaxPooling2  (None, 20, 12, 64)           0         ['batch_normalization_2[0][0]'\n",
      " D)                                                                 ]                             \n",
      "                                                                                                  \n",
      " depthwise_conv2d_1 (Depthw  (None, 20, 12, 64)           640       ['max_pooling2d[0][0]']       \n",
      " iseConv2D)                                                                                       \n",
      "                                                                                                  \n",
      " conv2d_3 (Conv2D)           (None, 20, 12, 128)          8320      ['depthwise_conv2d_1[0][0]']  \n",
      "                                                                                                  \n",
      " batch_normalization_3 (Bat  (None, 20, 12, 128)          512       ['conv2d_3[0][0]']            \n",
      " chNormalization)                                                                                 \n",
      "                                                                                                  \n",
      " conv2d_4 (Conv2D)           (None, 20, 12, 128)          147584    ['batch_normalization_3[0][0]'\n",
      "                                                                    ]                             \n",
      "                                                                                                  \n",
      " global_average_pooling2d_1  (None, 128)                  0         ['conv2d_4[0][0]']            \n",
      "  (GlobalAveragePooling2D)                                                                        \n",
      "                                                                                                  \n",
      " dense_2 (Dense)             (None, 16)                   2064      ['global_average_pooling2d_1[0\n",
      "                                                                    ][0]']                        \n",
      "                                                                                                  \n",
      " dense_3 (Dense)             (None, 128)                  2176      ['dense_2[0][0]']             \n",
      "                                                                                                  \n",
      " multiply_1 (Multiply)       (None, 20, 12, 128)          0         ['conv2d_4[0][0]',            \n",
      "                                                                     'dense_3[0][0]']             \n",
      "                                                                                                  \n",
      " batch_normalization_4 (Bat  (None, 20, 12, 128)          512       ['multiply_1[0][0]']          \n",
      " chNormalization)                                                                                 \n",
      "                                                                                                  \n",
      " max_pooling2d_1 (MaxPoolin  (None, 10, 6, 128)           0         ['batch_normalization_4[0][0]'\n",
      " g2D)                                                               ]                             \n",
      "                                                                                                  \n",
      " depthwise_conv2d_2 (Depthw  (None, 10, 6, 128)           1280      ['max_pooling2d_1[0][0]']     \n",
      " iseConv2D)                                                                                       \n",
      "                                                                                                  \n",
      " conv2d_5 (Conv2D)           (None, 10, 6, 256)           33024     ['depthwise_conv2d_2[0][0]']  \n",
      "                                                                                                  \n",
      " batch_normalization_5 (Bat  (None, 10, 6, 256)           1024      ['conv2d_5[0][0]']            \n",
      " chNormalization)                                                                                 \n",
      "                                                                                                  \n",
      " conv2d_6 (Conv2D)           (None, 10, 6, 256)           590080    ['batch_normalization_5[0][0]'\n",
      "                                                                    ]                             \n",
      "                                                                                                  \n",
      " global_average_pooling2d_2  (None, 256)                  0         ['conv2d_6[0][0]']            \n",
      "  (GlobalAveragePooling2D)                                                                        \n",
      "                                                                                                  \n",
      " dense_4 (Dense)             (None, 32)                   8224      ['global_average_pooling2d_2[0\n",
      "                                                                    ][0]']                        \n",
      "                                                                                                  \n",
      " dense_5 (Dense)             (None, 256)                  8448      ['dense_4[0][0]']             \n",
      "                                                                                                  \n",
      " multiply_2 (Multiply)       (None, 10, 6, 256)           0         ['conv2d_6[0][0]',            \n",
      "                                                                     'dense_5[0][0]']             \n",
      "                                                                                                  \n",
      " batch_normalization_6 (Bat  (None, 10, 6, 256)           1024      ['multiply_2[0][0]']          \n",
      " chNormalization)                                                                                 \n",
      "                                                                                                  \n",
      " max_pooling2d_2 (MaxPoolin  (None, 5, 3, 256)            0         ['batch_normalization_6[0][0]'\n",
      " g2D)                                                               ]                             \n",
      "                                                                                                  \n",
      " global_average_pooling2d_3  (None, 256)                  0         ['max_pooling2d_2[0][0]']     \n",
      "  (GlobalAveragePooling2D)                                                                        \n",
      "                                                                                                  \n",
      " dense_6 (Dense)             (None, 128)                  32896     ['global_average_pooling2d_3[0\n",
      "                                                                    ][0]']                        \n",
      "                                                                                                  \n",
      " dropout (Dropout)           (None, 128)                  0         ['dense_6[0][0]']             \n",
      "                                                                                                  \n",
      " dense_7 (Dense)             (None, 12)                   1548      ['dropout[0][0]']             \n",
      "                                                                                                  \n",
      "==================================================================================================\n",
      "Total params: 880772 (3.36 MB)\n",
      "Trainable params: 878916 (3.35 MB)\n",
      "Non-trainable params: 1856 (7.25 KB)\n",
      "__________________________________________________________________________________________________\n"
     ]
    }
   ],
   "source": [
    "# Define the model\n",
    "input_shape = (40, 24, 1)\n",
    "num_classes = 12\n",
    "model = adaptive_attention_pyramid_net(input_shape=input_shape, num_classes=num_classes)\n",
    "\n",
    "# Model summary\n",
    "model.summary()\n",
    "\n",
    "# Define learning rate scheduler\n",
    "lr_scheduler = ReduceLROnPlateau(monitor='val_loss', factor=0.5, patience=5, min_lr=1e-5, verbose=1)"
   ]
  },
  {
   "cell_type": "code",
   "execution_count": 9,
   "metadata": {},
   "outputs": [
    {
     "name": "stdout",
     "output_type": "stream",
     "text": [
      "Epoch 1/2\n",
      "2000/2000 [==============================] - 1425s 711ms/step - loss: 1.3855 - accuracy: 0.6705 - val_loss: 1.4472 - val_accuracy: 0.6404 - lr: 0.0010\n",
      "Epoch 2/2\n",
      "2000/2000 [==============================] - 1383s 692ms/step - loss: 1.1861 - accuracy: 0.7420 - val_loss: 1.1367 - val_accuracy: 0.7573 - lr: 0.0010\n"
     ]
    }
   ],
   "source": [
    "# Train the model\n",
    "history = model.fit(X_train, y_train, epochs=2, batch_size=32, validation_data=(X_val, y_val),\n",
    "                    shuffle=True, callbacks=[lr_scheduler])"
   ]
  },
  {
   "cell_type": "code",
   "execution_count": null,
   "metadata": {},
   "outputs": [],
   "source": []
  },
  {
   "cell_type": "code",
   "execution_count": null,
   "metadata": {},
   "outputs": [],
   "source": []
  },
  {
   "cell_type": "code",
   "execution_count": null,
   "metadata": {},
   "outputs": [],
   "source": []
  },
  {
   "cell_type": "code",
   "execution_count": 10,
   "metadata": {},
   "outputs": [
    {
     "name": "stdout",
     "output_type": "stream",
     "text": [
      "350/350 [==============================] - 128s 357ms/step\n"
     ]
    }
   ],
   "source": [
    "\n",
    "# Predictions on the test set\n",
    "y_pred = model.predict(X_test)\n",
    "y_pred_classes = np.argmax(y_pred, axis=1)\n",
    "y_test_classes = np.argmax(y_test, axis=1)"
   ]
  },
  {
   "cell_type": "code",
   "execution_count": 11,
   "metadata": {},
   "outputs": [
    {
     "name": "stderr",
     "output_type": "stream",
     "text": [
      "C:\\Users\\yanam\\anaconda3\\envs\\myenv\\lib\\site-packages\\keras\\src\\engine\\training.py:3000: UserWarning: You are saving your model as an HDF5 file via `model.save()`. This file format is considered legacy. We recommend using instead the native Keras format, e.g. `model.save('my_model.keras')`.\n",
      "  saving_api.save_model(\n"
     ]
    }
   ],
   "source": [
    "model.save('detect_model_12c.h5')"
   ]
  },
  {
   "cell_type": "code",
   "execution_count": 12,
   "metadata": {},
   "outputs": [],
   "source": [
    "model.save('model_detect_12c.keras')"
   ]
  },
  {
   "cell_type": "code",
   "execution_count": 13,
   "metadata": {},
   "outputs": [],
   "source": [
    "new_model1 = tf.keras.models.load_model('detect_model_12c.h5')"
   ]
  },
  {
   "cell_type": "code",
   "execution_count": 24,
   "metadata": {},
   "outputs": [
    {
     "data": {
      "text/plain": [
       "(40, 24, 1)"
      ]
     },
     "execution_count": 24,
     "metadata": {},
     "output_type": "execute_result"
    }
   ],
   "source": [
    "X_test[0].shape"
   ]
  },
  {
   "cell_type": "code",
   "execution_count": 16,
   "metadata": {},
   "outputs": [
    {
     "data": {
      "text/plain": [
       "(11200,)"
      ]
     },
     "execution_count": 16,
     "metadata": {},
     "output_type": "execute_result"
    }
   ],
   "source": [
    "y_test_classes.shape"
   ]
  },
  {
   "cell_type": "code",
   "execution_count": 17,
   "metadata": {},
   "outputs": [
    {
     "data": {
      "text/plain": [
       "(11200, 12)"
      ]
     },
     "execution_count": 17,
     "metadata": {},
     "output_type": "execute_result"
    }
   ],
   "source": [
    "y_pred.shape"
   ]
  },
  {
   "cell_type": "code",
   "execution_count": 21,
   "metadata": {},
   "outputs": [],
   "source": [
    "p = 0\n",
    "q=0\n",
    "for x in range(0,11200):\n",
    "    if(y_test_classes[x] == np.argmax(y_pred[x])):\n",
    "        p = p+1\n",
    "    else:\n",
    "        q = q+1"
   ]
  },
  {
   "cell_type": "code",
   "execution_count": 22,
   "metadata": {},
   "outputs": [
    {
     "data": {
      "text/plain": [
       "0.7609821428571428"
      ]
     },
     "execution_count": 22,
     "metadata": {},
     "output_type": "execute_result"
    }
   ],
   "source": [
    "p/(p+q)"
   ]
  },
  {
   "cell_type": "code",
   "execution_count": 27,
   "metadata": {},
   "outputs": [],
   "source": [
    "inp_img = np.array(X_test[0])"
   ]
  },
  {
   "cell_type": "code",
   "execution_count": 29,
   "metadata": {},
   "outputs": [],
   "source": [
    "inp_img = inp_img.reshape(1,40,24,1)"
   ]
  },
  {
   "cell_type": "code",
   "execution_count": 31,
   "metadata": {},
   "outputs": [],
   "source": [
    "y_pred = new_model1(inp_img)"
   ]
  },
  {
   "cell_type": "code",
   "execution_count": 34,
   "metadata": {},
   "outputs": [],
   "source": [
    "p=0\n",
    "q = 0\n",
    "if(y_test_classes[0] == np.argmax(y_pred)):\n",
    "    p = p+1\n",
    "else:\n",
    "    q = q+1"
   ]
  },
  {
   "cell_type": "code",
   "execution_count": 35,
   "metadata": {},
   "outputs": [
    {
     "data": {
      "text/plain": [
       "1.0"
      ]
     },
     "execution_count": 35,
     "metadata": {},
     "output_type": "execute_result"
    }
   ],
   "source": [
    "p/(p+q)"
   ]
  },
  {
   "cell_type": "code",
   "execution_count": 37,
   "metadata": {},
   "outputs": [
    {
     "data": {
      "text/plain": [
       "0"
      ]
     },
     "execution_count": 37,
     "metadata": {},
     "output_type": "execute_result"
    }
   ],
   "source": [
    "q"
   ]
  },
  {
   "cell_type": "code",
   "execution_count": null,
   "metadata": {},
   "outputs": [],
   "source": []
  },
  {
   "cell_type": "code",
   "execution_count": null,
   "metadata": {},
   "outputs": [],
   "source": []
  },
  {
   "cell_type": "code",
   "execution_count": null,
   "metadata": {},
   "outputs": [],
   "source": []
  },
  {
   "cell_type": "code",
   "execution_count": null,
   "metadata": {},
   "outputs": [],
   "source": []
  },
  {
   "cell_type": "code",
   "execution_count": null,
   "metadata": {},
   "outputs": [],
   "source": []
  },
  {
   "cell_type": "code",
   "execution_count": null,
   "metadata": {},
   "outputs": [],
   "source": []
  },
  {
   "cell_type": "code",
   "execution_count": null,
   "metadata": {},
   "outputs": [],
   "source": []
  },
  {
   "cell_type": "code",
   "execution_count": null,
   "metadata": {},
   "outputs": [],
   "source": []
  },
  {
   "cell_type": "code",
   "execution_count": null,
   "metadata": {},
   "outputs": [],
   "source": []
  },
  {
   "cell_type": "code",
   "execution_count": 38,
   "metadata": {},
   "outputs": [
    {
     "name": "stdout",
     "output_type": "stream",
     "text": [
      "Model: \"model\"\n",
      "__________________________________________________________________________________________________\n",
      " Layer (type)                Output Shape                 Param #   Connected to                  \n",
      "==================================================================================================\n",
      " input_1 (InputLayer)        [(None, 40, 24, 1)]          0         []                            \n",
      "                                                                                                  \n",
      " conv2d (Conv2D)             (None, 40, 24, 32)           320       ['input_1[0][0]']             \n",
      "                                                                                                  \n",
      " batch_normalization (Batch  (None, 40, 24, 32)           128       ['conv2d[0][0]']              \n",
      " Normalization)                                                                                   \n",
      "                                                                                                  \n",
      " depthwise_conv2d (Depthwis  (None, 40, 24, 32)           320       ['batch_normalization[0][0]'] \n",
      " eConv2D)                                                                                         \n",
      "                                                                                                  \n",
      " conv2d_1 (Conv2D)           (None, 40, 24, 64)           2112      ['depthwise_conv2d[0][0]']    \n",
      "                                                                                                  \n",
      " batch_normalization_1 (Bat  (None, 40, 24, 64)           256       ['conv2d_1[0][0]']            \n",
      " chNormalization)                                                                                 \n",
      "                                                                                                  \n",
      " conv2d_2 (Conv2D)           (None, 40, 24, 64)           36928     ['batch_normalization_1[0][0]'\n",
      "                                                                    ]                             \n",
      "                                                                                                  \n",
      " global_average_pooling2d (  (None, 64)                   0         ['conv2d_2[0][0]']            \n",
      " GlobalAveragePooling2D)                                                                          \n",
      "                                                                                                  \n",
      " dense (Dense)               (None, 8)                    520       ['global_average_pooling2d[0][\n",
      "                                                                    0]']                          \n",
      "                                                                                                  \n",
      " dense_1 (Dense)             (None, 64)                   576       ['dense[0][0]']               \n",
      "                                                                                                  \n",
      " multiply (Multiply)         (None, 40, 24, 64)           0         ['conv2d_2[0][0]',            \n",
      "                                                                     'dense_1[0][0]']             \n",
      "                                                                                                  \n",
      " batch_normalization_2 (Bat  (None, 40, 24, 64)           256       ['multiply[0][0]']            \n",
      " chNormalization)                                                                                 \n",
      "                                                                                                  \n",
      " max_pooling2d (MaxPooling2  (None, 20, 12, 64)           0         ['batch_normalization_2[0][0]'\n",
      " D)                                                                 ]                             \n",
      "                                                                                                  \n",
      " depthwise_conv2d_1 (Depthw  (None, 20, 12, 64)           640       ['max_pooling2d[0][0]']       \n",
      " iseConv2D)                                                                                       \n",
      "                                                                                                  \n",
      " conv2d_3 (Conv2D)           (None, 20, 12, 128)          8320      ['depthwise_conv2d_1[0][0]']  \n",
      "                                                                                                  \n",
      " batch_normalization_3 (Bat  (None, 20, 12, 128)          512       ['conv2d_3[0][0]']            \n",
      " chNormalization)                                                                                 \n",
      "                                                                                                  \n",
      " conv2d_4 (Conv2D)           (None, 20, 12, 128)          147584    ['batch_normalization_3[0][0]'\n",
      "                                                                    ]                             \n",
      "                                                                                                  \n",
      " global_average_pooling2d_1  (None, 128)                  0         ['conv2d_4[0][0]']            \n",
      "  (GlobalAveragePooling2D)                                                                        \n",
      "                                                                                                  \n",
      " dense_2 (Dense)             (None, 16)                   2064      ['global_average_pooling2d_1[0\n",
      "                                                                    ][0]']                        \n",
      "                                                                                                  \n",
      " dense_3 (Dense)             (None, 128)                  2176      ['dense_2[0][0]']             \n",
      "                                                                                                  \n",
      " multiply_1 (Multiply)       (None, 20, 12, 128)          0         ['conv2d_4[0][0]',            \n",
      "                                                                     'dense_3[0][0]']             \n",
      "                                                                                                  \n",
      " batch_normalization_4 (Bat  (None, 20, 12, 128)          512       ['multiply_1[0][0]']          \n",
      " chNormalization)                                                                                 \n",
      "                                                                                                  \n",
      " max_pooling2d_1 (MaxPoolin  (None, 10, 6, 128)           0         ['batch_normalization_4[0][0]'\n",
      " g2D)                                                               ]                             \n",
      "                                                                                                  \n",
      " depthwise_conv2d_2 (Depthw  (None, 10, 6, 128)           1280      ['max_pooling2d_1[0][0]']     \n",
      " iseConv2D)                                                                                       \n",
      "                                                                                                  \n",
      " conv2d_5 (Conv2D)           (None, 10, 6, 256)           33024     ['depthwise_conv2d_2[0][0]']  \n",
      "                                                                                                  \n",
      " batch_normalization_5 (Bat  (None, 10, 6, 256)           1024      ['conv2d_5[0][0]']            \n",
      " chNormalization)                                                                                 \n",
      "                                                                                                  \n",
      " conv2d_6 (Conv2D)           (None, 10, 6, 256)           590080    ['batch_normalization_5[0][0]'\n",
      "                                                                    ]                             \n",
      "                                                                                                  \n",
      " global_average_pooling2d_2  (None, 256)                  0         ['conv2d_6[0][0]']            \n",
      "  (GlobalAveragePooling2D)                                                                        \n",
      "                                                                                                  \n",
      " dense_4 (Dense)             (None, 32)                   8224      ['global_average_pooling2d_2[0\n",
      "                                                                    ][0]']                        \n",
      "                                                                                                  \n",
      " dense_5 (Dense)             (None, 256)                  8448      ['dense_4[0][0]']             \n",
      "                                                                                                  \n",
      " multiply_2 (Multiply)       (None, 10, 6, 256)           0         ['conv2d_6[0][0]',            \n",
      "                                                                     'dense_5[0][0]']             \n",
      "                                                                                                  \n",
      " batch_normalization_6 (Bat  (None, 10, 6, 256)           1024      ['multiply_2[0][0]']          \n",
      " chNormalization)                                                                                 \n",
      "                                                                                                  \n",
      " max_pooling2d_2 (MaxPoolin  (None, 5, 3, 256)            0         ['batch_normalization_6[0][0]'\n",
      " g2D)                                                               ]                             \n",
      "                                                                                                  \n",
      " global_average_pooling2d_3  (None, 256)                  0         ['max_pooling2d_2[0][0]']     \n",
      "  (GlobalAveragePooling2D)                                                                        \n",
      "                                                                                                  \n",
      " dense_6 (Dense)             (None, 128)                  32896     ['global_average_pooling2d_3[0\n",
      "                                                                    ][0]']                        \n",
      "                                                                                                  \n",
      " dropout (Dropout)           (None, 128)                  0         ['dense_6[0][0]']             \n",
      "                                                                                                  \n",
      " dense_7 (Dense)             (None, 12)                   1548      ['dropout[0][0]']             \n",
      "                                                                                                  \n",
      "==================================================================================================\n",
      "Total params: 880772 (3.36 MB)\n",
      "Trainable params: 878916 (3.35 MB)\n",
      "Non-trainable params: 1856 (7.25 KB)\n",
      "__________________________________________________________________________________________________\n"
     ]
    }
   ],
   "source": [
    "new_model1.summary()"
   ]
  },
  {
   "cell_type": "code",
   "execution_count": 39,
   "metadata": {},
   "outputs": [],
   "source": [
    "y_pred = new_model1(inp_img)"
   ]
  },
  {
   "cell_type": "code",
   "execution_count": 42,
   "metadata": {},
   "outputs": [
    {
     "data": {
      "text/plain": [
       "7"
      ]
     },
     "execution_count": 42,
     "metadata": {},
     "output_type": "execute_result"
    }
   ],
   "source": [
    "np.argmax(y_pred)"
   ]
  },
  {
   "cell_type": "code",
   "execution_count": 43,
   "metadata": {},
   "outputs": [
    {
     "data": {
      "text/plain": [
       "7"
      ]
     },
     "execution_count": 43,
     "metadata": {},
     "output_type": "execute_result"
    }
   ],
   "source": [
    "y_test_classes[0]"
   ]
  },
  {
   "cell_type": "code",
   "execution_count": null,
   "metadata": {},
   "outputs": [],
   "source": []
  },
  {
   "cell_type": "code",
   "execution_count": null,
   "metadata": {},
   "outputs": [],
   "source": []
  },
  {
   "cell_type": "code",
   "execution_count": 46,
   "metadata": {},
   "outputs": [],
   "source": [
    "ly1 = new_model1.layers[0](inp_img)"
   ]
  },
  {
   "cell_type": "code",
   "execution_count": 47,
   "metadata": {},
   "outputs": [
    {
     "data": {
      "text/plain": [
       "TensorShape([1, 40, 24, 1])"
      ]
     },
     "execution_count": 47,
     "metadata": {},
     "output_type": "execute_result"
    }
   ],
   "source": [
    "ly1.shape"
   ]
  },
  {
   "cell_type": "code",
   "execution_count": 50,
   "metadata": {},
   "outputs": [],
   "source": [
    "ly2 = new_model1.layers[1](ly1)\n",
    "ly3 = new_model1.layers[2](ly2)\n",
    "ly4 = new_model1.layers[3](ly3)\n",
    "ly5 = new_model1.layers[4](ly4)\n",
    "ly6 = new_model1.layers[5](ly5)\n",
    "ly7 = new_model1.layers[6](ly6)"
   ]
  },
  {
   "cell_type": "code",
   "execution_count": 51,
   "metadata": {},
   "outputs": [
    {
     "data": {
      "text/plain": [
       "TensorShape([1, 40, 24, 64])"
      ]
     },
     "execution_count": 51,
     "metadata": {},
     "output_type": "execute_result"
    }
   ],
   "source": [
    "ly7.shape"
   ]
  },
  {
   "cell_type": "code",
   "execution_count": 52,
   "metadata": {},
   "outputs": [],
   "source": [
    "ly8 = new_model1.layers[7](ly7)\n",
    "ly9 = new_model1.layers[8](ly8)\n",
    "ly10 = new_model1.layers[9](ly9)"
   ]
  },
  {
   "cell_type": "code",
   "execution_count": 59,
   "metadata": {},
   "outputs": [
    {
     "data": {
      "text/plain": [
       "TensorShape([1, 40, 24, 64])"
      ]
     },
     "execution_count": 59,
     "metadata": {},
     "output_type": "execute_result"
    }
   ],
   "source": [
    "ly7.shape"
   ]
  },
  {
   "cell_type": "code",
   "execution_count": 60,
   "metadata": {},
   "outputs": [],
   "source": [
    "ly11 = new_model1.layers[10]([ly7,ly10])"
   ]
  },
  {
   "cell_type": "code",
   "execution_count": 62,
   "metadata": {},
   "outputs": [
    {
     "data": {
      "text/plain": [
       "TensorShape([1, 40, 24, 64])"
      ]
     },
     "execution_count": 62,
     "metadata": {},
     "output_type": "execute_result"
    }
   ],
   "source": [
    "ly11.shape"
   ]
  },
  {
   "cell_type": "code",
   "execution_count": 63,
   "metadata": {},
   "outputs": [],
   "source": [
    "ly12 = new_model1.layers[11](ly11)\n",
    "ly12 = new_model1.layers[11](ly12)\n",
    "ly12 = new_model1.layers[11](ly13)\n",
    "ly12 = new_model1.layers[11](ly14)\n",
    "ly12 = new_model1.layers[11](ly15)\n",
    "ly12 = new_model1.layers[11](ly16)"
   ]
  },
  {
   "cell_type": "code",
   "execution_count": null,
   "metadata": {},
   "outputs": [],
   "source": []
  }
 ],
 "metadata": {
  "kaggle": {
   "accelerator": "none",
   "dataSources": [
    {
     "datasetId": 5815226,
     "sourceId": 9545283,
     "sourceType": "datasetVersion"
    },
    {
     "datasetId": 5842925,
     "sourceId": 9582179,
     "sourceType": "datasetVersion"
    }
   ],
   "dockerImageVersionId": 30786,
   "isGpuEnabled": false,
   "isInternetEnabled": true,
   "language": "python",
   "sourceType": "notebook"
  },
  "kernelspec": {
   "display_name": "Python 3 (ipykernel)",
   "language": "python",
   "name": "python3"
  },
  "language_info": {
   "codemirror_mode": {
    "name": "ipython",
    "version": 3
   },
   "file_extension": ".py",
   "mimetype": "text/x-python",
   "name": "python",
   "nbconvert_exporter": "python",
   "pygments_lexer": "ipython3",
   "version": "3.8.19"
  }
 },
 "nbformat": 4,
 "nbformat_minor": 4
}
